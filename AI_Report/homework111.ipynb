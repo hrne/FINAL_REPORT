{
 "cells": [
  {
   "cell_type": "code",
   "execution_count": 141,
   "metadata": {},
   "outputs": [],
   "source": [
    "import numpy as np\n",
    "import pandas as pd\n",
    "import matplotlib.pyplot as plt\n",
    "%matplotlib inline\n",
    "from scipy import stats\n",
    "import seaborn as sns"
   ]
  },
  {
   "cell_type": "code",
   "execution_count": 142,
   "metadata": {},
   "outputs": [],
   "source": [
    "#import train_data and test_data\n",
    "train_dataset=pd.read_csv(\"train_skl.csv\")\n",
    "test_dataset=pd.read_csv(\"test_skl.csv\")\n",
    "vaild_dataset=pd.read_csv(\"vaild_ans_skl.csv\")"
   ]
  },
  {
   "cell_type": "code",
   "execution_count": 143,
   "metadata": {},
   "outputs": [
    {
     "name": "stdout",
     "output_type": "stream",
     "text": [
      "(4413, 21)\n"
     ]
    },
    {
     "data": {
      "text/html": [
       "<div>\n",
       "<style scoped>\n",
       "    .dataframe tbody tr th:only-of-type {\n",
       "        vertical-align: middle;\n",
       "    }\n",
       "\n",
       "    .dataframe tbody tr th {\n",
       "        vertical-align: top;\n",
       "    }\n",
       "\n",
       "    .dataframe thead th {\n",
       "        text-align: right;\n",
       "    }\n",
       "</style>\n",
       "<table border=\"1\" class=\"dataframe\">\n",
       "  <thead>\n",
       "    <tr style=\"text-align: right;\">\n",
       "      <th></th>\n",
       "      <th>Id</th>\n",
       "      <th>CityCode</th>\n",
       "      <th>UseYear</th>\n",
       "      <th>RoadWide</th>\n",
       "      <th>RegisterReason</th>\n",
       "      <th>MaterialCode</th>\n",
       "      <th>BuildTotalLevel</th>\n",
       "      <th>BuildLevel</th>\n",
       "      <th>buildRate</th>\n",
       "      <th>UsedState</th>\n",
       "      <th>...</th>\n",
       "      <th>StallNum</th>\n",
       "      <th>StallAreaSize</th>\n",
       "      <th>TotalAreaSize</th>\n",
       "      <th>ColAreaCode</th>\n",
       "      <th>RegisterPurpose1</th>\n",
       "      <th>RegisterPurpose2</th>\n",
       "      <th>RegisterPurpose3</th>\n",
       "      <th>RegisterPurpose4</th>\n",
       "      <th>landSize</th>\n",
       "      <th>IdenPrice</th>\n",
       "    </tr>\n",
       "  </thead>\n",
       "  <tbody>\n",
       "    <tr>\n",
       "      <th>count</th>\n",
       "      <td>4413.000000</td>\n",
       "      <td>4.413000e+03</td>\n",
       "      <td>4413.000000</td>\n",
       "      <td>4413.000000</td>\n",
       "      <td>4413.000000</td>\n",
       "      <td>4413.000000</td>\n",
       "      <td>4413.000000</td>\n",
       "      <td>4413.000000</td>\n",
       "      <td>4413.000000</td>\n",
       "      <td>4413.000000</td>\n",
       "      <td>...</td>\n",
       "      <td>4413.000000</td>\n",
       "      <td>4413.000000</td>\n",
       "      <td>4413.000000</td>\n",
       "      <td>2996.000000</td>\n",
       "      <td>4413.000000</td>\n",
       "      <td>4413.000000</td>\n",
       "      <td>4413.000000</td>\n",
       "      <td>4413.000000</td>\n",
       "      <td>4413.000000</td>\n",
       "      <td>4.413000e+03</td>\n",
       "    </tr>\n",
       "    <tr>\n",
       "      <th>mean</th>\n",
       "      <td>2207.000000</td>\n",
       "      <td>6.221900e+06</td>\n",
       "      <td>26.914344</td>\n",
       "      <td>10.743070</td>\n",
       "      <td>2.405846</td>\n",
       "      <td>4.809653</td>\n",
       "      <td>7.264673</td>\n",
       "      <td>1.434111</td>\n",
       "      <td>9.968502</td>\n",
       "      <td>1.846590</td>\n",
       "      <td>...</td>\n",
       "      <td>0.208928</td>\n",
       "      <td>3.444405</td>\n",
       "      <td>38.998081</td>\n",
       "      <td>2.535714</td>\n",
       "      <td>11.839989</td>\n",
       "      <td>1.045370</td>\n",
       "      <td>3.927131</td>\n",
       "      <td>0.040795</td>\n",
       "      <td>17.657999</td>\n",
       "      <td>1.104167e+07</td>\n",
       "    </tr>\n",
       "    <tr>\n",
       "      <th>std</th>\n",
       "      <td>1274.067698</td>\n",
       "      <td>7.669379e+06</td>\n",
       "      <td>11.238106</td>\n",
       "      <td>7.459534</td>\n",
       "      <td>1.272497</td>\n",
       "      <td>4.108405</td>\n",
       "      <td>5.652262</td>\n",
       "      <td>23.894368</td>\n",
       "      <td>13.422004</td>\n",
       "      <td>2.075695</td>\n",
       "      <td>...</td>\n",
       "      <td>0.469700</td>\n",
       "      <td>121.930799</td>\n",
       "      <td>30.639407</td>\n",
       "      <td>8.901261</td>\n",
       "      <td>8.550017</td>\n",
       "      <td>1.083238</td>\n",
       "      <td>48.033757</td>\n",
       "      <td>0.435977</td>\n",
       "      <td>25.447795</td>\n",
       "      <td>1.151199e+07</td>\n",
       "    </tr>\n",
       "    <tr>\n",
       "      <th>min</th>\n",
       "      <td>1.000000</td>\n",
       "      <td>0.000000e+00</td>\n",
       "      <td>0.000000</td>\n",
       "      <td>0.000000</td>\n",
       "      <td>1.000000</td>\n",
       "      <td>2.000000</td>\n",
       "      <td>0.000000</td>\n",
       "      <td>0.000000</td>\n",
       "      <td>0.000000</td>\n",
       "      <td>0.000000</td>\n",
       "      <td>...</td>\n",
       "      <td>0.000000</td>\n",
       "      <td>0.000000</td>\n",
       "      <td>0.000000</td>\n",
       "      <td>1.000000</td>\n",
       "      <td>0.000000</td>\n",
       "      <td>0.000000</td>\n",
       "      <td>0.000000</td>\n",
       "      <td>0.000000</td>\n",
       "      <td>0.100000</td>\n",
       "      <td>1.542000e+05</td>\n",
       "    </tr>\n",
       "    <tr>\n",
       "      <th>25%</th>\n",
       "      <td>1104.000000</td>\n",
       "      <td>1.329400e+06</td>\n",
       "      <td>20.000000</td>\n",
       "      <td>6.000000</td>\n",
       "      <td>2.000000</td>\n",
       "      <td>4.000000</td>\n",
       "      <td>4.000000</td>\n",
       "      <td>0.000000</td>\n",
       "      <td>0.000000</td>\n",
       "      <td>1.000000</td>\n",
       "      <td>...</td>\n",
       "      <td>0.000000</td>\n",
       "      <td>0.000000</td>\n",
       "      <td>26.060000</td>\n",
       "      <td>1.000000</td>\n",
       "      <td>7.230000</td>\n",
       "      <td>0.270000</td>\n",
       "      <td>0.000000</td>\n",
       "      <td>0.000000</td>\n",
       "      <td>6.500000</td>\n",
       "      <td>5.106000e+06</td>\n",
       "    </tr>\n",
       "    <tr>\n",
       "      <th>50%</th>\n",
       "      <td>2207.000000</td>\n",
       "      <td>4.195800e+06</td>\n",
       "      <td>25.000000</td>\n",
       "      <td>8.000000</td>\n",
       "      <td>2.000000</td>\n",
       "      <td>4.000000</td>\n",
       "      <td>5.000000</td>\n",
       "      <td>0.000000</td>\n",
       "      <td>1.000000</td>\n",
       "      <td>1.000000</td>\n",
       "      <td>...</td>\n",
       "      <td>0.000000</td>\n",
       "      <td>0.000000</td>\n",
       "      <td>34.040000</td>\n",
       "      <td>1.000000</td>\n",
       "      <td>9.050000</td>\n",
       "      <td>0.940000</td>\n",
       "      <td>0.180000</td>\n",
       "      <td>0.000000</td>\n",
       "      <td>10.330000</td>\n",
       "      <td>7.800710e+06</td>\n",
       "    </tr>\n",
       "    <tr>\n",
       "      <th>75%</th>\n",
       "      <td>3310.000000</td>\n",
       "      <td>8.524500e+06</td>\n",
       "      <td>36.000000</td>\n",
       "      <td>12.000000</td>\n",
       "      <td>2.000000</td>\n",
       "      <td>4.000000</td>\n",
       "      <td>11.000000</td>\n",
       "      <td>0.000000</td>\n",
       "      <td>20.000000</td>\n",
       "      <td>1.000000</td>\n",
       "      <td>...</td>\n",
       "      <td>0.000000</td>\n",
       "      <td>0.000000</td>\n",
       "      <td>47.300000</td>\n",
       "      <td>2.000000</td>\n",
       "      <td>14.010000</td>\n",
       "      <td>1.400000</td>\n",
       "      <td>2.170000</td>\n",
       "      <td>0.000000</td>\n",
       "      <td>24.500000</td>\n",
       "      <td>1.266224e+07</td>\n",
       "    </tr>\n",
       "    <tr>\n",
       "      <th>max</th>\n",
       "      <td>4413.000000</td>\n",
       "      <td>1.419600e+08</td>\n",
       "      <td>96.000000</td>\n",
       "      <td>80.000000</td>\n",
       "      <td>6.000000</td>\n",
       "      <td>99.000000</td>\n",
       "      <td>99.000000</td>\n",
       "      <td>646.910000</td>\n",
       "      <td>99.000000</td>\n",
       "      <td>9.000000</td>\n",
       "      <td>...</td>\n",
       "      <td>5.000000</td>\n",
       "      <td>8097.000000</td>\n",
       "      <td>915.410000</td>\n",
       "      <td>99.000000</td>\n",
       "      <td>188.380000</td>\n",
       "      <td>17.340000</td>\n",
       "      <td>1451.280000</td>\n",
       "      <td>13.600000</td>\n",
       "      <td>737.430000</td>\n",
       "      <td>1.665440e+08</td>\n",
       "    </tr>\n",
       "  </tbody>\n",
       "</table>\n",
       "<p>8 rows × 21 columns</p>\n",
       "</div>"
      ],
      "text/plain": [
       "                Id      CityCode      UseYear     RoadWide  RegisterReason  \\\n",
       "count  4413.000000  4.413000e+03  4413.000000  4413.000000     4413.000000   \n",
       "mean   2207.000000  6.221900e+06    26.914344    10.743070        2.405846   \n",
       "std    1274.067698  7.669379e+06    11.238106     7.459534        1.272497   \n",
       "min       1.000000  0.000000e+00     0.000000     0.000000        1.000000   \n",
       "25%    1104.000000  1.329400e+06    20.000000     6.000000        2.000000   \n",
       "50%    2207.000000  4.195800e+06    25.000000     8.000000        2.000000   \n",
       "75%    3310.000000  8.524500e+06    36.000000    12.000000        2.000000   \n",
       "max    4413.000000  1.419600e+08    96.000000    80.000000        6.000000   \n",
       "\n",
       "       MaterialCode  BuildTotalLevel   BuildLevel    buildRate    UsedState  \\\n",
       "count   4413.000000      4413.000000  4413.000000  4413.000000  4413.000000   \n",
       "mean       4.809653         7.264673     1.434111     9.968502     1.846590   \n",
       "std        4.108405         5.652262    23.894368    13.422004     2.075695   \n",
       "min        2.000000         0.000000     0.000000     0.000000     0.000000   \n",
       "25%        4.000000         4.000000     0.000000     0.000000     1.000000   \n",
       "50%        4.000000         5.000000     0.000000     1.000000     1.000000   \n",
       "75%        4.000000        11.000000     0.000000    20.000000     1.000000   \n",
       "max       99.000000        99.000000   646.910000    99.000000     9.000000   \n",
       "\n",
       "       ...     StallNum  StallAreaSize  TotalAreaSize  ColAreaCode  \\\n",
       "count  ...  4413.000000    4413.000000    4413.000000  2996.000000   \n",
       "mean   ...     0.208928       3.444405      38.998081     2.535714   \n",
       "std    ...     0.469700     121.930799      30.639407     8.901261   \n",
       "min    ...     0.000000       0.000000       0.000000     1.000000   \n",
       "25%    ...     0.000000       0.000000      26.060000     1.000000   \n",
       "50%    ...     0.000000       0.000000      34.040000     1.000000   \n",
       "75%    ...     0.000000       0.000000      47.300000     2.000000   \n",
       "max    ...     5.000000    8097.000000     915.410000    99.000000   \n",
       "\n",
       "       RegisterPurpose1  RegisterPurpose2  RegisterPurpose3  RegisterPurpose4  \\\n",
       "count       4413.000000       4413.000000       4413.000000       4413.000000   \n",
       "mean          11.839989          1.045370          3.927131          0.040795   \n",
       "std            8.550017          1.083238         48.033757          0.435977   \n",
       "min            0.000000          0.000000          0.000000          0.000000   \n",
       "25%            7.230000          0.270000          0.000000          0.000000   \n",
       "50%            9.050000          0.940000          0.180000          0.000000   \n",
       "75%           14.010000          1.400000          2.170000          0.000000   \n",
       "max          188.380000         17.340000       1451.280000         13.600000   \n",
       "\n",
       "          landSize     IdenPrice  \n",
       "count  4413.000000  4.413000e+03  \n",
       "mean     17.657999  1.104167e+07  \n",
       "std      25.447795  1.151199e+07  \n",
       "min       0.100000  1.542000e+05  \n",
       "25%       6.500000  5.106000e+06  \n",
       "50%      10.330000  7.800710e+06  \n",
       "75%      24.500000  1.266224e+07  \n",
       "max     737.430000  1.665440e+08  \n",
       "\n",
       "[8 rows x 21 columns]"
      ]
     },
     "execution_count": 143,
     "metadata": {},
     "output_type": "execute_result"
    }
   ],
   "source": [
    "#train_data\n",
    "print (train_dataset.shape)\n",
    "train_dataset.describe()"
   ]
  },
  {
   "cell_type": "code",
   "execution_count": 144,
   "metadata": {},
   "outputs": [
    {
     "data": {
      "text/html": [
       "<div>\n",
       "<style scoped>\n",
       "    .dataframe tbody tr th:only-of-type {\n",
       "        vertical-align: middle;\n",
       "    }\n",
       "\n",
       "    .dataframe tbody tr th {\n",
       "        vertical-align: top;\n",
       "    }\n",
       "\n",
       "    .dataframe thead th {\n",
       "        text-align: right;\n",
       "    }\n",
       "</style>\n",
       "<table border=\"1\" class=\"dataframe\">\n",
       "  <thead>\n",
       "    <tr style=\"text-align: right;\">\n",
       "      <th></th>\n",
       "      <th>Id</th>\n",
       "      <th>CityCode</th>\n",
       "      <th>UseYear</th>\n",
       "      <th>RoadWide</th>\n",
       "      <th>RegisterReason</th>\n",
       "      <th>MaterialCode</th>\n",
       "      <th>BuildTotalLevel</th>\n",
       "      <th>BuildLevel</th>\n",
       "      <th>buildRate</th>\n",
       "      <th>UsedState</th>\n",
       "      <th>...</th>\n",
       "      <th>StallNum</th>\n",
       "      <th>StallAreaSize</th>\n",
       "      <th>TotalAreaSize</th>\n",
       "      <th>ColAreaCode</th>\n",
       "      <th>RegisterPurpose1</th>\n",
       "      <th>RegisterPurpose2</th>\n",
       "      <th>RegisterPurpose3</th>\n",
       "      <th>RegisterPurpose4</th>\n",
       "      <th>landSize</th>\n",
       "      <th>IdenPrice</th>\n",
       "    </tr>\n",
       "  </thead>\n",
       "  <tbody>\n",
       "    <tr>\n",
       "      <th>0</th>\n",
       "      <td>1</td>\n",
       "      <td>2627520</td>\n",
       "      <td>29</td>\n",
       "      <td>12.0</td>\n",
       "      <td>2</td>\n",
       "      <td>4</td>\n",
       "      <td>7</td>\n",
       "      <td>0.00</td>\n",
       "      <td>21</td>\n",
       "      <td>1</td>\n",
       "      <td>...</td>\n",
       "      <td>0</td>\n",
       "      <td>0.00</td>\n",
       "      <td>19.32</td>\n",
       "      <td>NaN</td>\n",
       "      <td>9.44</td>\n",
       "      <td>0.92</td>\n",
       "      <td>2.74</td>\n",
       "      <td>0.00</td>\n",
       "      <td>7.24</td>\n",
       "      <td>5855040</td>\n",
       "    </tr>\n",
       "    <tr>\n",
       "      <th>1</th>\n",
       "      <td>2</td>\n",
       "      <td>0</td>\n",
       "      <td>29</td>\n",
       "      <td>12.0</td>\n",
       "      <td>2</td>\n",
       "      <td>4</td>\n",
       "      <td>7</td>\n",
       "      <td>0.00</td>\n",
       "      <td>21</td>\n",
       "      <td>1</td>\n",
       "      <td>...</td>\n",
       "      <td>0</td>\n",
       "      <td>2.32</td>\n",
       "      <td>2.32</td>\n",
       "      <td>NaN</td>\n",
       "      <td>9.44</td>\n",
       "      <td>0.92</td>\n",
       "      <td>2.74</td>\n",
       "      <td>0.00</td>\n",
       "      <td>7.24</td>\n",
       "      <td>5855040</td>\n",
       "    </tr>\n",
       "    <tr>\n",
       "      <th>2</th>\n",
       "      <td>3</td>\n",
       "      <td>0</td>\n",
       "      <td>29</td>\n",
       "      <td>12.0</td>\n",
       "      <td>2</td>\n",
       "      <td>4</td>\n",
       "      <td>7</td>\n",
       "      <td>0.00</td>\n",
       "      <td>21</td>\n",
       "      <td>1</td>\n",
       "      <td>...</td>\n",
       "      <td>1</td>\n",
       "      <td>2.32</td>\n",
       "      <td>2.32</td>\n",
       "      <td>NaN</td>\n",
       "      <td>9.44</td>\n",
       "      <td>0.92</td>\n",
       "      <td>2.74</td>\n",
       "      <td>0.00</td>\n",
       "      <td>7.24</td>\n",
       "      <td>5855040</td>\n",
       "    </tr>\n",
       "    <tr>\n",
       "      <th>3</th>\n",
       "      <td>4</td>\n",
       "      <td>2627520</td>\n",
       "      <td>29</td>\n",
       "      <td>12.0</td>\n",
       "      <td>2</td>\n",
       "      <td>4</td>\n",
       "      <td>7</td>\n",
       "      <td>0.00</td>\n",
       "      <td>21</td>\n",
       "      <td>1</td>\n",
       "      <td>...</td>\n",
       "      <td>0</td>\n",
       "      <td>0.00</td>\n",
       "      <td>19.32</td>\n",
       "      <td>NaN</td>\n",
       "      <td>9.44</td>\n",
       "      <td>0.92</td>\n",
       "      <td>2.74</td>\n",
       "      <td>0.00</td>\n",
       "      <td>7.24</td>\n",
       "      <td>5855040</td>\n",
       "    </tr>\n",
       "    <tr>\n",
       "      <th>4</th>\n",
       "      <td>5</td>\n",
       "      <td>0</td>\n",
       "      <td>22</td>\n",
       "      <td>10.0</td>\n",
       "      <td>2</td>\n",
       "      <td>4</td>\n",
       "      <td>16</td>\n",
       "      <td>0.09</td>\n",
       "      <td>6</td>\n",
       "      <td>1</td>\n",
       "      <td>...</td>\n",
       "      <td>1</td>\n",
       "      <td>12.49</td>\n",
       "      <td>0.00</td>\n",
       "      <td>1.0</td>\n",
       "      <td>10.93</td>\n",
       "      <td>1.32</td>\n",
       "      <td>0.79</td>\n",
       "      <td>3.69</td>\n",
       "      <td>7.16</td>\n",
       "      <td>21404000</td>\n",
       "    </tr>\n",
       "  </tbody>\n",
       "</table>\n",
       "<p>5 rows × 21 columns</p>\n",
       "</div>"
      ],
      "text/plain": [
       "   Id  CityCode  UseYear  RoadWide  RegisterReason  MaterialCode  \\\n",
       "0   1   2627520       29      12.0               2             4   \n",
       "1   2         0       29      12.0               2             4   \n",
       "2   3         0       29      12.0               2             4   \n",
       "3   4   2627520       29      12.0               2             4   \n",
       "4   5         0       22      10.0               2             4   \n",
       "\n",
       "   BuildTotalLevel  BuildLevel  buildRate  UsedState  ...  StallNum  \\\n",
       "0                7        0.00         21          1  ...         0   \n",
       "1                7        0.00         21          1  ...         0   \n",
       "2                7        0.00         21          1  ...         1   \n",
       "3                7        0.00         21          1  ...         0   \n",
       "4               16        0.09          6          1  ...         1   \n",
       "\n",
       "   StallAreaSize  TotalAreaSize  ColAreaCode  RegisterPurpose1  \\\n",
       "0           0.00          19.32          NaN              9.44   \n",
       "1           2.32           2.32          NaN              9.44   \n",
       "2           2.32           2.32          NaN              9.44   \n",
       "3           0.00          19.32          NaN              9.44   \n",
       "4          12.49           0.00          1.0             10.93   \n",
       "\n",
       "   RegisterPurpose2  RegisterPurpose3  RegisterPurpose4  landSize  IdenPrice  \n",
       "0              0.92              2.74              0.00      7.24    5855040  \n",
       "1              0.92              2.74              0.00      7.24    5855040  \n",
       "2              0.92              2.74              0.00      7.24    5855040  \n",
       "3              0.92              2.74              0.00      7.24    5855040  \n",
       "4              1.32              0.79              3.69      7.16   21404000  \n",
       "\n",
       "[5 rows x 21 columns]"
      ]
     },
     "execution_count": 144,
     "metadata": {},
     "output_type": "execute_result"
    }
   ],
   "source": [
    "train_dataset.head()"
   ]
  },
  {
   "cell_type": "code",
   "execution_count": 145,
   "metadata": {},
   "outputs": [
    {
     "name": "stdout",
     "output_type": "stream",
     "text": [
      "Index(['Id', 'CityCode', 'UseYear', 'RoadWide', 'RegisterReason',\n",
      "       'MaterialCode', 'BuildTotalLevel', 'BuildLevel', 'buildRate',\n",
      "       'UsedState', 'StallPrice', 'StallNum', 'StallAreaSize', 'TotalAreaSize',\n",
      "       'ColAreaCode', 'RegisterPurpose1', 'RegisterPurpose2',\n",
      "       'RegisterPurpose3', 'RegisterPurpose4', 'landSize', 'IdenPrice'],\n",
      "      dtype='object')\n"
     ]
    }
   ],
   "source": [
    "#train_data columns\n",
    "print (train_dataset.columns)"
   ]
  },
  {
   "cell_type": "code",
   "execution_count": 146,
   "metadata": {},
   "outputs": [
    {
     "name": "stdout",
     "output_type": "stream",
     "text": [
      "<class 'pandas.core.frame.DataFrame'>\n",
      "RangeIndex: 4413 entries, 0 to 4412\n",
      "Data columns (total 21 columns):\n",
      " #   Column            Non-Null Count  Dtype  \n",
      "---  ------            --------------  -----  \n",
      " 0   Id                4413 non-null   int64  \n",
      " 1   CityCode          4413 non-null   int64  \n",
      " 2   UseYear           4413 non-null   int64  \n",
      " 3   RoadWide          4413 non-null   float64\n",
      " 4   RegisterReason    4413 non-null   int64  \n",
      " 5   MaterialCode      4413 non-null   int64  \n",
      " 6   BuildTotalLevel   4413 non-null   int64  \n",
      " 7   BuildLevel        4413 non-null   float64\n",
      " 8   buildRate         4413 non-null   int64  \n",
      " 9   UsedState         4413 non-null   int64  \n",
      " 10  StallPrice        4413 non-null   int64  \n",
      " 11  StallNum          4413 non-null   int64  \n",
      " 12  StallAreaSize     4413 non-null   float64\n",
      " 13  TotalAreaSize     4413 non-null   float64\n",
      " 14  ColAreaCode       2996 non-null   float64\n",
      " 15  RegisterPurpose1  4413 non-null   float64\n",
      " 16  RegisterPurpose2  4413 non-null   float64\n",
      " 17  RegisterPurpose3  4413 non-null   float64\n",
      " 18  RegisterPurpose4  4413 non-null   float64\n",
      " 19  landSize          4413 non-null   float64\n",
      " 20  IdenPrice         4413 non-null   int64  \n",
      "dtypes: float64(10), int64(11)\n",
      "memory usage: 724.1 KB\n"
     ]
    }
   ],
   "source": [
    "#show train col info\n",
    "train_dataset.info()"
   ]
  },
  {
   "cell_type": "code",
   "execution_count": 147,
   "metadata": {},
   "outputs": [
    {
     "name": "stdout",
     "output_type": "stream",
     "text": [
      "(831, 20)\n"
     ]
    },
    {
     "data": {
      "text/html": [
       "<div>\n",
       "<style scoped>\n",
       "    .dataframe tbody tr th:only-of-type {\n",
       "        vertical-align: middle;\n",
       "    }\n",
       "\n",
       "    .dataframe tbody tr th {\n",
       "        vertical-align: top;\n",
       "    }\n",
       "\n",
       "    .dataframe thead th {\n",
       "        text-align: right;\n",
       "    }\n",
       "</style>\n",
       "<table border=\"1\" class=\"dataframe\">\n",
       "  <thead>\n",
       "    <tr style=\"text-align: right;\">\n",
       "      <th></th>\n",
       "      <th>Id</th>\n",
       "      <th>CityCode</th>\n",
       "      <th>UseYear</th>\n",
       "      <th>RoadWide</th>\n",
       "      <th>RegisterReason</th>\n",
       "      <th>MaterialCode</th>\n",
       "      <th>BuildTotalLevel</th>\n",
       "      <th>BuildLevel</th>\n",
       "      <th>buildRate</th>\n",
       "      <th>UsedState</th>\n",
       "      <th>StallPrice</th>\n",
       "      <th>StallNum</th>\n",
       "      <th>StallAreaSize</th>\n",
       "      <th>TotalAreaSize</th>\n",
       "      <th>ColAreaCode</th>\n",
       "      <th>RegisterPurpose1</th>\n",
       "      <th>RegisterPurpose2</th>\n",
       "      <th>RegisterPurpose3</th>\n",
       "      <th>RegisterPurpose4</th>\n",
       "      <th>landSize</th>\n",
       "    </tr>\n",
       "  </thead>\n",
       "  <tbody>\n",
       "    <tr>\n",
       "      <th>count</th>\n",
       "      <td>831.000000</td>\n",
       "      <td>8.310000e+02</td>\n",
       "      <td>831.000000</td>\n",
       "      <td>831.000000</td>\n",
       "      <td>831.000000</td>\n",
       "      <td>831.000000</td>\n",
       "      <td>831.000000</td>\n",
       "      <td>831.000000</td>\n",
       "      <td>831.000000</td>\n",
       "      <td>831.000000</td>\n",
       "      <td>8.310000e+02</td>\n",
       "      <td>831.000000</td>\n",
       "      <td>831.000000</td>\n",
       "      <td>831.000000</td>\n",
       "      <td>554.000000</td>\n",
       "      <td>831.000000</td>\n",
       "      <td>831.000000</td>\n",
       "      <td>831.000000</td>\n",
       "      <td>831.000000</td>\n",
       "      <td>831.000000</td>\n",
       "    </tr>\n",
       "    <tr>\n",
       "      <th>mean</th>\n",
       "      <td>5416.000000</td>\n",
       "      <td>6.667055e+06</td>\n",
       "      <td>27.040915</td>\n",
       "      <td>10.414561</td>\n",
       "      <td>2.518652</td>\n",
       "      <td>4.835138</td>\n",
       "      <td>7.548736</td>\n",
       "      <td>0.590337</td>\n",
       "      <td>9.842359</td>\n",
       "      <td>1.466907</td>\n",
       "      <td>2.595066e+05</td>\n",
       "      <td>0.342960</td>\n",
       "      <td>1.659326</td>\n",
       "      <td>39.821324</td>\n",
       "      <td>4.382671</td>\n",
       "      <td>11.880096</td>\n",
       "      <td>1.202912</td>\n",
       "      <td>2.662599</td>\n",
       "      <td>0.021348</td>\n",
       "      <td>18.153189</td>\n",
       "    </tr>\n",
       "    <tr>\n",
       "      <th>std</th>\n",
       "      <td>240.033331</td>\n",
       "      <td>7.609024e+06</td>\n",
       "      <td>11.876909</td>\n",
       "      <td>6.823677</td>\n",
       "      <td>3.578965</td>\n",
       "      <td>4.912538</td>\n",
       "      <td>6.162633</td>\n",
       "      <td>1.336483</td>\n",
       "      <td>12.378292</td>\n",
       "      <td>1.307458</td>\n",
       "      <td>6.814760e+05</td>\n",
       "      <td>3.493756</td>\n",
       "      <td>3.960115</td>\n",
       "      <td>23.730754</td>\n",
       "      <td>15.827784</td>\n",
       "      <td>7.456526</td>\n",
       "      <td>1.196308</td>\n",
       "      <td>28.191032</td>\n",
       "      <td>0.229117</td>\n",
       "      <td>21.727693</td>\n",
       "    </tr>\n",
       "    <tr>\n",
       "      <th>min</th>\n",
       "      <td>5001.000000</td>\n",
       "      <td>0.000000e+00</td>\n",
       "      <td>0.000000</td>\n",
       "      <td>0.000000</td>\n",
       "      <td>1.000000</td>\n",
       "      <td>2.000000</td>\n",
       "      <td>1.000000</td>\n",
       "      <td>0.000000</td>\n",
       "      <td>0.000000</td>\n",
       "      <td>0.000000</td>\n",
       "      <td>0.000000e+00</td>\n",
       "      <td>0.000000</td>\n",
       "      <td>0.000000</td>\n",
       "      <td>0.000000</td>\n",
       "      <td>1.000000</td>\n",
       "      <td>0.000000</td>\n",
       "      <td>0.000000</td>\n",
       "      <td>0.000000</td>\n",
       "      <td>0.000000</td>\n",
       "      <td>0.940000</td>\n",
       "    </tr>\n",
       "    <tr>\n",
       "      <th>25%</th>\n",
       "      <td>5208.500000</td>\n",
       "      <td>1.761770e+06</td>\n",
       "      <td>20.000000</td>\n",
       "      <td>6.000000</td>\n",
       "      <td>2.000000</td>\n",
       "      <td>4.000000</td>\n",
       "      <td>4.000000</td>\n",
       "      <td>0.000000</td>\n",
       "      <td>0.000000</td>\n",
       "      <td>1.000000</td>\n",
       "      <td>0.000000e+00</td>\n",
       "      <td>0.000000</td>\n",
       "      <td>0.000000</td>\n",
       "      <td>25.725000</td>\n",
       "      <td>1.000000</td>\n",
       "      <td>7.320000</td>\n",
       "      <td>0.475000</td>\n",
       "      <td>0.000000</td>\n",
       "      <td>0.000000</td>\n",
       "      <td>6.195000</td>\n",
       "    </tr>\n",
       "    <tr>\n",
       "      <th>50%</th>\n",
       "      <td>5416.000000</td>\n",
       "      <td>4.499820e+06</td>\n",
       "      <td>26.000000</td>\n",
       "      <td>8.000000</td>\n",
       "      <td>2.000000</td>\n",
       "      <td>4.000000</td>\n",
       "      <td>5.000000</td>\n",
       "      <td>0.000000</td>\n",
       "      <td>2.000000</td>\n",
       "      <td>1.000000</td>\n",
       "      <td>0.000000e+00</td>\n",
       "      <td>0.000000</td>\n",
       "      <td>0.000000</td>\n",
       "      <td>35.170000</td>\n",
       "      <td>1.000000</td>\n",
       "      <td>9.800000</td>\n",
       "      <td>1.000000</td>\n",
       "      <td>0.220000</td>\n",
       "      <td>0.000000</td>\n",
       "      <td>9.980000</td>\n",
       "    </tr>\n",
       "    <tr>\n",
       "      <th>75%</th>\n",
       "      <td>5623.500000</td>\n",
       "      <td>9.282900e+06</td>\n",
       "      <td>36.000000</td>\n",
       "      <td>12.000000</td>\n",
       "      <td>2.000000</td>\n",
       "      <td>4.000000</td>\n",
       "      <td>12.000000</td>\n",
       "      <td>0.000000</td>\n",
       "      <td>20.000000</td>\n",
       "      <td>1.000000</td>\n",
       "      <td>0.000000e+00</td>\n",
       "      <td>0.000000</td>\n",
       "      <td>0.000000</td>\n",
       "      <td>49.990000</td>\n",
       "      <td>2.000000</td>\n",
       "      <td>14.305000</td>\n",
       "      <td>1.540000</td>\n",
       "      <td>2.245000</td>\n",
       "      <td>0.000000</td>\n",
       "      <td>24.200000</td>\n",
       "    </tr>\n",
       "    <tr>\n",
       "      <th>max</th>\n",
       "      <td>5831.000000</td>\n",
       "      <td>7.468680e+07</td>\n",
       "      <td>88.000000</td>\n",
       "      <td>70.000000</td>\n",
       "      <td>99.000000</td>\n",
       "      <td>99.000000</td>\n",
       "      <td>99.000000</td>\n",
       "      <td>9.800000</td>\n",
       "      <td>99.000000</td>\n",
       "      <td>9.000000</td>\n",
       "      <td>7.500000e+06</td>\n",
       "      <td>100.000000</td>\n",
       "      <td>32.440000</td>\n",
       "      <td>151.530000</td>\n",
       "      <td>99.000000</td>\n",
       "      <td>51.350000</td>\n",
       "      <td>7.960000</td>\n",
       "      <td>575.100000</td>\n",
       "      <td>3.010000</td>\n",
       "      <td>311.270000</td>\n",
       "    </tr>\n",
       "  </tbody>\n",
       "</table>\n",
       "</div>"
      ],
      "text/plain": [
       "                Id      CityCode     UseYear    RoadWide  RegisterReason  \\\n",
       "count   831.000000  8.310000e+02  831.000000  831.000000      831.000000   \n",
       "mean   5416.000000  6.667055e+06   27.040915   10.414561        2.518652   \n",
       "std     240.033331  7.609024e+06   11.876909    6.823677        3.578965   \n",
       "min    5001.000000  0.000000e+00    0.000000    0.000000        1.000000   \n",
       "25%    5208.500000  1.761770e+06   20.000000    6.000000        2.000000   \n",
       "50%    5416.000000  4.499820e+06   26.000000    8.000000        2.000000   \n",
       "75%    5623.500000  9.282900e+06   36.000000   12.000000        2.000000   \n",
       "max    5831.000000  7.468680e+07   88.000000   70.000000       99.000000   \n",
       "\n",
       "       MaterialCode  BuildTotalLevel  BuildLevel   buildRate   UsedState  \\\n",
       "count    831.000000       831.000000  831.000000  831.000000  831.000000   \n",
       "mean       4.835138         7.548736    0.590337    9.842359    1.466907   \n",
       "std        4.912538         6.162633    1.336483   12.378292    1.307458   \n",
       "min        2.000000         1.000000    0.000000    0.000000    0.000000   \n",
       "25%        4.000000         4.000000    0.000000    0.000000    1.000000   \n",
       "50%        4.000000         5.000000    0.000000    2.000000    1.000000   \n",
       "75%        4.000000        12.000000    0.000000   20.000000    1.000000   \n",
       "max       99.000000        99.000000    9.800000   99.000000    9.000000   \n",
       "\n",
       "         StallPrice    StallNum  StallAreaSize  TotalAreaSize  ColAreaCode  \\\n",
       "count  8.310000e+02  831.000000     831.000000     831.000000   554.000000   \n",
       "mean   2.595066e+05    0.342960       1.659326      39.821324     4.382671   \n",
       "std    6.814760e+05    3.493756       3.960115      23.730754    15.827784   \n",
       "min    0.000000e+00    0.000000       0.000000       0.000000     1.000000   \n",
       "25%    0.000000e+00    0.000000       0.000000      25.725000     1.000000   \n",
       "50%    0.000000e+00    0.000000       0.000000      35.170000     1.000000   \n",
       "75%    0.000000e+00    0.000000       0.000000      49.990000     2.000000   \n",
       "max    7.500000e+06  100.000000      32.440000     151.530000    99.000000   \n",
       "\n",
       "       RegisterPurpose1  RegisterPurpose2  RegisterPurpose3  RegisterPurpose4  \\\n",
       "count        831.000000        831.000000        831.000000        831.000000   \n",
       "mean          11.880096          1.202912          2.662599          0.021348   \n",
       "std            7.456526          1.196308         28.191032          0.229117   \n",
       "min            0.000000          0.000000          0.000000          0.000000   \n",
       "25%            7.320000          0.475000          0.000000          0.000000   \n",
       "50%            9.800000          1.000000          0.220000          0.000000   \n",
       "75%           14.305000          1.540000          2.245000          0.000000   \n",
       "max           51.350000          7.960000        575.100000          3.010000   \n",
       "\n",
       "         landSize  \n",
       "count  831.000000  \n",
       "mean    18.153189  \n",
       "std     21.727693  \n",
       "min      0.940000  \n",
       "25%      6.195000  \n",
       "50%      9.980000  \n",
       "75%     24.200000  \n",
       "max    311.270000  "
      ]
     },
     "execution_count": 147,
     "metadata": {},
     "output_type": "execute_result"
    }
   ],
   "source": [
    "#test_data\n",
    "print (test_dataset.shape)\n",
    "test_dataset.describe()"
   ]
  },
  {
   "cell_type": "code",
   "execution_count": 148,
   "metadata": {},
   "outputs": [
    {
     "data": {
      "text/html": [
       "<div>\n",
       "<style scoped>\n",
       "    .dataframe tbody tr th:only-of-type {\n",
       "        vertical-align: middle;\n",
       "    }\n",
       "\n",
       "    .dataframe tbody tr th {\n",
       "        vertical-align: top;\n",
       "    }\n",
       "\n",
       "    .dataframe thead th {\n",
       "        text-align: right;\n",
       "    }\n",
       "</style>\n",
       "<table border=\"1\" class=\"dataframe\">\n",
       "  <thead>\n",
       "    <tr style=\"text-align: right;\">\n",
       "      <th></th>\n",
       "      <th>Id</th>\n",
       "      <th>CityCode</th>\n",
       "      <th>UseYear</th>\n",
       "      <th>RoadWide</th>\n",
       "      <th>RegisterReason</th>\n",
       "      <th>MaterialCode</th>\n",
       "      <th>BuildTotalLevel</th>\n",
       "      <th>BuildLevel</th>\n",
       "      <th>buildRate</th>\n",
       "      <th>UsedState</th>\n",
       "      <th>StallPrice</th>\n",
       "      <th>StallNum</th>\n",
       "      <th>StallAreaSize</th>\n",
       "      <th>TotalAreaSize</th>\n",
       "      <th>ColAreaCode</th>\n",
       "      <th>RegisterPurpose1</th>\n",
       "      <th>RegisterPurpose2</th>\n",
       "      <th>RegisterPurpose3</th>\n",
       "      <th>RegisterPurpose4</th>\n",
       "      <th>landSize</th>\n",
       "    </tr>\n",
       "  </thead>\n",
       "  <tbody>\n",
       "    <tr>\n",
       "      <th>0</th>\n",
       "      <td>5001</td>\n",
       "      <td>1549500</td>\n",
       "      <td>29</td>\n",
       "      <td>6.0</td>\n",
       "      <td>2</td>\n",
       "      <td>4</td>\n",
       "      <td>4</td>\n",
       "      <td>0.0</td>\n",
       "      <td>0</td>\n",
       "      <td>1</td>\n",
       "      <td>0</td>\n",
       "      <td>0</td>\n",
       "      <td>0.0</td>\n",
       "      <td>51.65</td>\n",
       "      <td>4.0</td>\n",
       "      <td>14.58</td>\n",
       "      <td>1.05</td>\n",
       "      <td>0.00</td>\n",
       "      <td>0.0</td>\n",
       "      <td>21.34</td>\n",
       "    </tr>\n",
       "    <tr>\n",
       "      <th>1</th>\n",
       "      <td>5002</td>\n",
       "      <td>25511500</td>\n",
       "      <td>15</td>\n",
       "      <td>8.0</td>\n",
       "      <td>2</td>\n",
       "      <td>4</td>\n",
       "      <td>5</td>\n",
       "      <td>0.0</td>\n",
       "      <td>0</td>\n",
       "      <td>1</td>\n",
       "      <td>0</td>\n",
       "      <td>0</td>\n",
       "      <td>0.0</td>\n",
       "      <td>72.89</td>\n",
       "      <td>1.0</td>\n",
       "      <td>20.44</td>\n",
       "      <td>1.61</td>\n",
       "      <td>0.00</td>\n",
       "      <td>0.0</td>\n",
       "      <td>29.66</td>\n",
       "    </tr>\n",
       "    <tr>\n",
       "      <th>2</th>\n",
       "      <td>5003</td>\n",
       "      <td>5866700</td>\n",
       "      <td>21</td>\n",
       "      <td>8.0</td>\n",
       "      <td>2</td>\n",
       "      <td>4</td>\n",
       "      <td>12</td>\n",
       "      <td>0.0</td>\n",
       "      <td>20</td>\n",
       "      <td>1</td>\n",
       "      <td>0</td>\n",
       "      <td>0</td>\n",
       "      <td>0.0</td>\n",
       "      <td>34.51</td>\n",
       "      <td>2.0</td>\n",
       "      <td>7.25</td>\n",
       "      <td>1.09</td>\n",
       "      <td>2.09</td>\n",
       "      <td>0.0</td>\n",
       "      <td>3.93</td>\n",
       "    </tr>\n",
       "    <tr>\n",
       "      <th>3</th>\n",
       "      <td>5004</td>\n",
       "      <td>10401600</td>\n",
       "      <td>23</td>\n",
       "      <td>5.0</td>\n",
       "      <td>2</td>\n",
       "      <td>4</td>\n",
       "      <td>6</td>\n",
       "      <td>0.0</td>\n",
       "      <td>16</td>\n",
       "      <td>1</td>\n",
       "      <td>0</td>\n",
       "      <td>0</td>\n",
       "      <td>0.0</td>\n",
       "      <td>31.52</td>\n",
       "      <td>1.0</td>\n",
       "      <td>7.40</td>\n",
       "      <td>0.63</td>\n",
       "      <td>1.51</td>\n",
       "      <td>0.0</td>\n",
       "      <td>7.00</td>\n",
       "    </tr>\n",
       "    <tr>\n",
       "      <th>4</th>\n",
       "      <td>5005</td>\n",
       "      <td>34792800</td>\n",
       "      <td>26</td>\n",
       "      <td>30.0</td>\n",
       "      <td>2</td>\n",
       "      <td>4</td>\n",
       "      <td>15</td>\n",
       "      <td>0.0</td>\n",
       "      <td>26</td>\n",
       "      <td>1</td>\n",
       "      <td>0</td>\n",
       "      <td>0</td>\n",
       "      <td>0.0</td>\n",
       "      <td>45.78</td>\n",
       "      <td>1.0</td>\n",
       "      <td>11.29</td>\n",
       "      <td>1.22</td>\n",
       "      <td>4.35</td>\n",
       "      <td>0.0</td>\n",
       "      <td>10.57</td>\n",
       "    </tr>\n",
       "  </tbody>\n",
       "</table>\n",
       "</div>"
      ],
      "text/plain": [
       "     Id  CityCode  UseYear  RoadWide  RegisterReason  MaterialCode  \\\n",
       "0  5001   1549500       29       6.0               2             4   \n",
       "1  5002  25511500       15       8.0               2             4   \n",
       "2  5003   5866700       21       8.0               2             4   \n",
       "3  5004  10401600       23       5.0               2             4   \n",
       "4  5005  34792800       26      30.0               2             4   \n",
       "\n",
       "   BuildTotalLevel  BuildLevel  buildRate  UsedState  StallPrice  StallNum  \\\n",
       "0                4         0.0          0          1           0         0   \n",
       "1                5         0.0          0          1           0         0   \n",
       "2               12         0.0         20          1           0         0   \n",
       "3                6         0.0         16          1           0         0   \n",
       "4               15         0.0         26          1           0         0   \n",
       "\n",
       "   StallAreaSize  TotalAreaSize  ColAreaCode  RegisterPurpose1  \\\n",
       "0            0.0          51.65          4.0             14.58   \n",
       "1            0.0          72.89          1.0             20.44   \n",
       "2            0.0          34.51          2.0              7.25   \n",
       "3            0.0          31.52          1.0              7.40   \n",
       "4            0.0          45.78          1.0             11.29   \n",
       "\n",
       "   RegisterPurpose2  RegisterPurpose3  RegisterPurpose4  landSize  \n",
       "0              1.05              0.00               0.0     21.34  \n",
       "1              1.61              0.00               0.0     29.66  \n",
       "2              1.09              2.09               0.0      3.93  \n",
       "3              0.63              1.51               0.0      7.00  \n",
       "4              1.22              4.35               0.0     10.57  "
      ]
     },
     "execution_count": 148,
     "metadata": {},
     "output_type": "execute_result"
    }
   ],
   "source": [
    "test_dataset.head()"
   ]
  },
  {
   "cell_type": "code",
   "execution_count": 149,
   "metadata": {},
   "outputs": [
    {
     "data": {
      "text/html": [
       "<div>\n",
       "<style scoped>\n",
       "    .dataframe tbody tr th:only-of-type {\n",
       "        vertical-align: middle;\n",
       "    }\n",
       "\n",
       "    .dataframe tbody tr th {\n",
       "        vertical-align: top;\n",
       "    }\n",
       "\n",
       "    .dataframe thead th {\n",
       "        text-align: right;\n",
       "    }\n",
       "</style>\n",
       "<table border=\"1\" class=\"dataframe\">\n",
       "  <thead>\n",
       "    <tr style=\"text-align: right;\">\n",
       "      <th></th>\n",
       "      <th>train_data</th>\n",
       "      <th>test_data</th>\n",
       "    </tr>\n",
       "  </thead>\n",
       "  <tbody>\n",
       "    <tr>\n",
       "      <th>ColAreaCode</th>\n",
       "      <td>1417</td>\n",
       "      <td>277.0</td>\n",
       "    </tr>\n",
       "  </tbody>\n",
       "</table>\n",
       "</div>"
      ],
      "text/plain": [
       "             train_data  test_data\n",
       "ColAreaCode        1417      277.0"
      ]
     },
     "execution_count": 149,
     "metadata": {},
     "output_type": "execute_result"
    }
   ],
   "source": [
    "#missing value\n",
    "\n",
    "missdf=pd.concat([train_dataset.isnull().sum(),test_dataset.isnull().sum()],keys=['train_data', 'test_data'],axis =1)\n",
    "missdf[missdf.sum(axis=1)>0.]"
   ]
  },
  {
   "cell_type": "code",
   "execution_count": 150,
   "metadata": {},
   "outputs": [
    {
     "data": {
      "text/plain": [
       "count    4.413000e+03\n",
       "mean     1.104167e+07\n",
       "std      1.151199e+07\n",
       "min      1.542000e+05\n",
       "25%      5.106000e+06\n",
       "50%      7.800710e+06\n",
       "75%      1.266224e+07\n",
       "max      1.665440e+08\n",
       "Name: IdenPrice, dtype: float64"
      ]
     },
     "execution_count": 150,
     "metadata": {},
     "output_type": "execute_result"
    }
   ],
   "source": [
    "#SalePrice\n",
    "train_dataset[\"IdenPrice\"].describe()"
   ]
  },
  {
   "cell_type": "code",
   "execution_count": 151,
   "metadata": {},
   "outputs": [
    {
     "data": {
      "text/plain": [
       "Id                    int64\n",
       "CityCode              int64\n",
       "UseYear               int64\n",
       "RoadWide            float64\n",
       "RegisterReason        int64\n",
       "MaterialCode          int64\n",
       "BuildTotalLevel       int64\n",
       "BuildLevel          float64\n",
       "buildRate             int64\n",
       "UsedState             int64\n",
       "StallPrice            int64\n",
       "StallNum              int64\n",
       "StallAreaSize       float64\n",
       "TotalAreaSize       float64\n",
       "ColAreaCode         float64\n",
       "RegisterPurpose1    float64\n",
       "RegisterPurpose2    float64\n",
       "RegisterPurpose3    float64\n",
       "RegisterPurpose4    float64\n",
       "landSize            float64\n",
       "IdenPrice             int64\n",
       "dtype: object"
      ]
     },
     "execution_count": 151,
     "metadata": {},
     "output_type": "execute_result"
    }
   ],
   "source": [
    "#correlation\n",
    "numeric_features=train_dataset.select_dtypes(include=[np.number])\n",
    "numeric_features.dtypes"
   ]
  },
  {
   "cell_type": "code",
   "execution_count": 152,
   "metadata": {},
   "outputs": [
    {
     "name": "stdout",
     "output_type": "stream",
     "text": [
      "ColAreaCode        -0.064019\n",
      "RegisterPurpose3   -0.006846\n",
      "UseYear            -0.004707\n",
      "buildRate          -0.004562\n",
      "RegisterPurpose4   -0.003698\n",
      "BuildLevel         -0.001434\n",
      "RegisterReason      0.000361\n",
      "StallAreaSize       0.003642\n",
      "Id                  0.037760\n",
      "BuildTotalLevel     0.067059\n",
      "UsedState           0.086927\n",
      "StallNum            0.087078\n",
      "landSize            0.124478\n",
      "MaterialCode        0.135896\n",
      "TotalAreaSize       0.147116\n",
      "RegisterPurpose2    0.201522\n",
      "StallPrice          0.226829\n",
      "RoadWide            0.259867\n",
      "RegisterPurpose1    0.493017\n",
      "CityCode            0.550704\n",
      "IdenPrice           1.000000\n",
      "Name: IdenPrice, dtype: float64\n"
     ]
    }
   ],
   "source": [
    "corr=numeric_features.corr()\n",
    "print (corr['IdenPrice'].sort_values()[:])"
   ]
  },
  {
   "cell_type": "code",
   "execution_count": 153,
   "metadata": {},
   "outputs": [
    {
     "name": "stdout",
     "output_type": "stream",
     "text": [
      "Index(['IdenPrice', 'CityCode', 'RegisterPurpose1', 'RoadWide', 'StallPrice',\n",
      "       'RegisterPurpose2', 'TotalAreaSize', 'MaterialCode', 'landSize',\n",
      "       'StallNum', 'UsedState', 'BuildTotalLevel', 'Id', 'StallAreaSize',\n",
      "       'RegisterReason'],\n",
      "      dtype='object')\n"
     ]
    },
    {
     "data": {
      "image/png": "[encoded data removed]",
      "text/plain": [
       "<Figure size 1008x792 with 2 Axes>"
      ]
     },
     "metadata": {
      "needs_background": "light"
     },
     "output_type": "display_data"
    }
   ],
   "source": [
    "#相關性分析\n",
    "corrmat = train_dataset.corr()\n",
    "k = 15\n",
    "cols = corrmat.nlargest(k, 'IdenPrice')['IdenPrice'].index\n",
    "print(cols)\n",
    "cm = train_dataset[cols].corr()\n",
    "f, ax = plt.subplots(figsize=(14, 11))\n",
    "hm = sns.heatmap(cm, cbar=True, annot=True, square=True,fmt='.2f')\n",
    "plt.show()"
   ]
  },
  {
   "cell_type": "code",
   "execution_count": 154,
   "metadata": {},
   "outputs": [],
   "source": [
    "#train model\n",
    "from sklearn.model_selection import train_test_split\n",
    "X1=train_dataset.select_dtypes(include=[np.number]).fillna(0)\n",
    "X=X1.drop(['IdenPrice','Id'],axis=1)\n",
    "y=train_dataset.IdenPrice"
   ]
  },
  {
   "cell_type": "code",
   "execution_count": 155,
   "metadata": {},
   "outputs": [
    {
     "name": "stdout",
     "output_type": "stream",
     "text": [
      "(3089, 19)\n",
      "(1324, 19)\n",
      "(3089,)\n",
      "(1324,)\n"
     ]
    }
   ],
   "source": [
    "X_train,X_test,y_train,y_test=train_test_split(X,y,test_size=0.3,random_state=1)\n",
    "print (X_train.shape)\n",
    "print (X_test.shape)\n",
    "print (y_train.shape)\n",
    "print (y_test.shape)"
   ]
  },
  {
   "cell_type": "code",
   "execution_count": 156,
   "metadata": {},
   "outputs": [
    {
     "data": {
      "text/plain": [
       "LinearRegression()"
      ]
     },
     "execution_count": 156,
     "metadata": {},
     "output_type": "execute_result"
    }
   ],
   "source": [
    "from sklearn import linear_model\n",
    "lr=linear_model.LinearRegression()\n",
    "lr.fit(X_train, y_train)"
   ]
  },
  {
   "cell_type": "code",
   "execution_count": 157,
   "metadata": {},
   "outputs": [],
   "source": [
    "#pred price\n",
    "y_pred=lr.predict(X_test)"
   ]
  },
  {
   "cell_type": "code",
   "execution_count": 158,
   "metadata": {},
   "outputs": [
    {
     "data": {
      "text/plain": [
       "Text(0, 0.5, 'Actual')"
      ]
     },
     "execution_count": 158,
     "metadata": {},
     "output_type": "execute_result"
    },
    {
     "data": {
      "image/png": "[encoded data removed]",
      "text/plain": [
       "<Figure size 432x288 with 1 Axes>"
      ]
     },
     "metadata": {},
     "output_type": "display_data"
    }
   ],
   "source": [
    "plt.style.use(\"ggplot\")\n",
    "actual_value=y_test\n",
    "plt.scatter(y_pred,actual_value,alpha=0.9)\n",
    "plt.rcParams[\"figure.figsize\"] =(15, 15)\n",
    "plt.ticklabel_format(style='plain')\n",
    "plt.title(\"IdenPrice\")\n",
    "plt.xlabel(\"Predicted\")\n",
    "plt.ylabel(\"Actual\")"
   ]
  },
  {
   "cell_type": "code",
   "execution_count": 159,
   "metadata": {},
   "outputs": [],
   "source": [
    "from sklearn.metrics import mean_squared_error"
   ]
  },
  {
   "cell_type": "code",
   "execution_count": 160,
   "metadata": {},
   "outputs": [
    {
     "name": "stdout",
     "output_type": "stream",
     "text": [
      "RSME is :  10353629.380441867\n"
     ]
    }
   ],
   "source": [
    "#RSME\n",
    "print ('RSME is : ',np.sqrt(mean_squared_error(y_test,y_pred)))"
   ]
  },
  {
   "cell_type": "code",
   "execution_count": 161,
   "metadata": {},
   "outputs": [
    {
     "name": "stdout",
     "output_type": "stream",
     "text": [
      "R Squared is :  0.35957264509879217\n"
     ]
    }
   ],
   "source": [
    "#R Squared\n",
    "print ('R Squared is : ',1- mean_squared_error(y_test,y_pred)/ np.var(y_test))"
   ]
  },
  {
   "cell_type": "code",
   "execution_count": 162,
   "metadata": {},
   "outputs": [],
   "source": [
    "#train model with xgboost\n",
    "from xgboost import XGBRegressor\n",
    "from sklearn.model_selection import train_test_split\n",
    "from sklearn.metrics import accuracy_score\n",
    "import matplotlib.pyplot as plt\n",
    "%matplotlib inline\n",
    "import pandas as pd"
   ]
  },
  {
   "cell_type": "code",
   "execution_count": 163,
   "metadata": {},
   "outputs": [
    {
     "data": {
      "text/plain": [
       "XGBRegressor(base_score=0.5, booster='gbtree', colsample_bylevel=1,\n",
       "             colsample_bynode=1, colsample_bytree=1, gamma=0, gpu_id=-1,\n",
       "             importance_type='gain', interaction_constraints='',\n",
       "             learning_rate=0.300000012, max_delta_step=0, max_depth=6,\n",
       "             min_child_weight=1, missing=nan, monotone_constraints='()',\n",
       "             n_estimators=100, n_jobs=0, num_parallel_tree=1, random_state=0,\n",
       "             reg_alpha=0, reg_lambda=1, scale_pos_weight=1, subsample=1,\n",
       "             tree_method='exact', validate_parameters=1, verbosity=None)"
      ]
     },
     "execution_count": 163,
     "metadata": {},
     "output_type": "execute_result"
    }
   ],
   "source": [
    "model= XGBRegressor()\n",
    "model.fit(X_train, y_train)"
   ]
  },
  {
   "cell_type": "code",
   "execution_count": 164,
   "metadata": {},
   "outputs": [],
   "source": [
    "y_pred=model.predict(X_test)"
   ]
  },
  {
   "cell_type": "code",
   "execution_count": 165,
   "metadata": {},
   "outputs": [
    {
     "data": {
      "text/plain": [
       "Text(0, 0.5, 'Actual')"
      ]
     },
     "execution_count": 165,
     "metadata": {},
     "output_type": "execute_result"
    },
    {
     "data": {
      "image/png": "[encoded data removed]",
      "text/plain": [
       "<Figure size 432x288 with 1 Axes>"
      ]
     },
     "metadata": {
      "needs_background": "light"
     },
     "output_type": "display_data"
    }
   ],
   "source": [
    "plt.scatter(y_pred,actual_value,alpha=0.9)\n",
    "plt.rcParams[\"figure.figsize\"] =(15, 15)\n",
    "plt.ticklabel_format(style='plain')\n",
    "plt.title(\"IdenPrice\")\n",
    "plt.xlabel(\"Predicted\")\n",
    "plt.ylabel(\"Actual\")"
   ]
  },
  {
   "cell_type": "code",
   "execution_count": 166,
   "metadata": {},
   "outputs": [
    {
     "name": "stdout",
     "output_type": "stream",
     "text": [
      "RSME is :  6765913.828730838\n"
     ]
    }
   ],
   "source": [
    "#RSME\n",
    "print ('RSME is : ',np.sqrt(mean_squared_error(y_test,y_pred)))"
   ]
  },
  {
   "cell_type": "code",
   "execution_count": 167,
   "metadata": {},
   "outputs": [
    {
     "name": "stdout",
     "output_type": "stream",
     "text": [
      "R Squared is :  0.7265124449653306\n"
     ]
    }
   ],
   "source": [
    "#R Squared\n",
    "print ('R Squared is : ',1- mean_squared_error(y_test,y_pred)/ np.var(y_test))"
   ]
  },
  {
   "cell_type": "code",
   "execution_count": 168,
   "metadata": {},
   "outputs": [
    {
     "name": "stdout",
     "output_type": "stream",
     "text": [
      "[0.17950124 0.02033034 0.02239445 0.00317725 0.01188602 0.01725427\n",
      " 0.04283511 0.00640222 0.07631245 0.10505209 0.03349821 0.01012114\n",
      " 0.0340121  0.04948738 0.3454401  0.01593069 0.00749371 0.00209306\n",
      " 0.01677825]\n"
     ]
    }
   ],
   "source": [
    "print(model.feature_importances_)"
   ]
  },
  {
   "cell_type": "code",
   "execution_count": 169,
   "metadata": {},
   "outputs": [
    {
     "data": {
      "image/png": "[encoded data removed]",
      "text/plain": [
       "<Figure size 720x720 with 1 Axes>"
      ]
     },
     "metadata": {
      "needs_background": "light"
     },
     "output_type": "display_data"
    }
   ],
   "source": [
    "from xgboost import plot_importance\n",
    "ax=plot_importance(model)\n",
    "fig=ax.figure\n",
    "fig.set_size_inches(10,10)\n"
   ]
  },
  {
   "cell_type": "code",
   "execution_count": 170,
   "metadata": {},
   "outputs": [
    {
     "name": "stdout",
     "output_type": "stream",
     "text": [
      "[ 4291429.5 25291446.   6084749.5 10224170.  36705960. ]\n",
      "[ 4291429.5 25291446.   6084749.5 10224170.  36705960. ]\n"
     ]
    }
   ],
   "source": [
    "answer=pd.DataFrame()\n",
    "answer['Id']=test_dataset.Id\n",
    "feats=test_dataset.select_dtypes(include=[np.number]).drop(['Id'],axis=1).fillna(0)\n",
    "pred_f=model.predict(feats)\n",
    "\n",
    "#exp()\n",
    "pred_result=pred_f\n",
    "print (pred_f[:5])\n",
    "print (pred_result[:5])"
   ]
  },
  {
   "cell_type": "code",
   "execution_count": 171,
   "metadata": {},
   "outputs": [
    {
     "data": {
      "text/html": [
       "<div>\n",
       "<style scoped>\n",
       "    .dataframe tbody tr th:only-of-type {\n",
       "        vertical-align: middle;\n",
       "    }\n",
       "\n",
       "    .dataframe tbody tr th {\n",
       "        vertical-align: top;\n",
       "    }\n",
       "\n",
       "    .dataframe thead th {\n",
       "        text-align: right;\n",
       "    }\n",
       "</style>\n",
       "<table border=\"1\" class=\"dataframe\">\n",
       "  <thead>\n",
       "    <tr style=\"text-align: right;\">\n",
       "      <th></th>\n",
       "      <th>Id</th>\n",
       "      <th>IdenPrice</th>\n",
       "    </tr>\n",
       "  </thead>\n",
       "  <tbody>\n",
       "    <tr>\n",
       "      <th>0</th>\n",
       "      <td>5001</td>\n",
       "      <td>4291429.5</td>\n",
       "    </tr>\n",
       "    <tr>\n",
       "      <th>1</th>\n",
       "      <td>5002</td>\n",
       "      <td>25291446.0</td>\n",
       "    </tr>\n",
       "    <tr>\n",
       "      <th>2</th>\n",
       "      <td>5003</td>\n",
       "      <td>6084749.5</td>\n",
       "    </tr>\n",
       "    <tr>\n",
       "      <th>3</th>\n",
       "      <td>5004</td>\n",
       "      <td>10224170.0</td>\n",
       "    </tr>\n",
       "    <tr>\n",
       "      <th>4</th>\n",
       "      <td>5005</td>\n",
       "      <td>36705960.0</td>\n",
       "    </tr>\n",
       "  </tbody>\n",
       "</table>\n",
       "</div>"
      ],
      "text/plain": [
       "     Id   IdenPrice\n",
       "0  5001   4291429.5\n",
       "1  5002  25291446.0\n",
       "2  5003   6084749.5\n",
       "3  5004  10224170.0\n",
       "4  5005  36705960.0"
      ]
     },
     "execution_count": 171,
     "metadata": {},
     "output_type": "execute_result"
    }
   ],
   "source": [
    "answer['IdenPrice']=pred_result\n",
    "answer.head()"
   ]
  },
  {
   "cell_type": "code",
   "execution_count": 172,
   "metadata": {},
   "outputs": [],
   "source": [
    "#export the result file\n",
    "answer.to_csv(\"Result_skl.csv\",index=False)"
   ]
  },
  {
   "cell_type": "code",
   "execution_count": 176,
   "metadata": {},
   "outputs": [
    {
     "data": {
      "text/plain": [
       "Text(0, 0.5, 'Actual')"
      ]
     },
     "execution_count": 176,
     "metadata": {},
     "output_type": "execute_result"
    },
    {
     "data": {
      "image/png": "[encoded data removed]",
      "text/plain": [
       "<Figure size 1440x1440 with 1 Axes>"
      ]
     },
     "metadata": {
      "needs_background": "light"
     },
     "output_type": "display_data"
    }
   ],
   "source": [
    "vaild_data =vaild_dataset.IdenPrice\n",
    "plt.scatter(pred_result,vaild_data,alpha=0.9)\n",
    "plt.rcParams[\"figure.figsize\"] =(15, 15)\n",
    "plt.ticklabel_format(style='plain')\n",
    "plt.title(\"IdenPrice\")\n",
    "plt.xlabel(\"Predicted\")\n",
    "plt.ylabel(\"Actual\")"
   ]
  },
  {
   "cell_type": "code",
   "execution_count": 174,
   "metadata": {},
   "outputs": [
    {
     "name": "stdout",
     "output_type": "stream",
     "text": [
      "RSME is :  4425863.9977129195\n"
     ]
    }
   ],
   "source": [
    "#RSME\n",
    "print ('RSME is : ',np.sqrt(mean_squared_error(vaild_data,pred_result)))"
   ]
  },
  {
   "cell_type": "code",
   "execution_count": 175,
   "metadata": {},
   "outputs": [
    {
     "name": "stdout",
     "output_type": "stream",
     "text": [
      "R Squared is :  0.7805602778046592\n"
     ]
    }
   ],
   "source": [
    "#R Squared\n",
    "print ('R Squared is : ',1- mean_squared_error(vaild_data,pred_result)/ np.var(vaild_data))"
   ]
  }
 ],
 "metadata": {
  "kernelspec": {
   "display_name": "Python 3",
   "language": "python",
   "name": "python3"
  },
  "language_info": {
   "codemirror_mode": {
    "name": "ipython",
    "version": 3
   },
   "file_extension": ".py",
   "mimetype": "text/x-python",
   "name": "python",
   "nbconvert_exporter": "python",
   "pygments_lexer": "ipython3",
   "version": "3.6.10"
  }
 },
 "nbformat": 4,
 "nbformat_minor": 2
}
